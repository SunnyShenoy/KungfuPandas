{
 "cells": [
  {
   "cell_type": "markdown",
   "metadata": {
    "application/vnd.databricks.v1+cell": {
     "cellMetadata": {},
     "inputWidgets": {},
     "nuid": "bb3ee6d9-93f5-411a-bc08-201d13856b77",
     "showTitle": false,
     "tableResultSettingsMap": {},
     "title": ""
    }
   },
   "source": [
    "# Data Setup\n",
    "## This notebook is designed to detach and recreate all schemas to prepare the environment for a clean, full-load ingestion of prime data."
   ]
  },
  {
   "cell_type": "code",
   "execution_count": 0,
   "metadata": {
    "application/vnd.databricks.v1+cell": {
     "cellMetadata": {},
     "inputWidgets": {},
     "nuid": "ed6f9bbf-2168-444d-b5aa-bf42325bfba5",
     "showTitle": false,
     "tableResultSettingsMap": {},
     "title": ""
    }
   },
   "outputs": [],
   "source": [
    "%sql\n",
    "SHOW CATALOGS;"
   ]
  },
  {
   "cell_type": "code",
   "execution_count": 0,
   "metadata": {
    "application/vnd.databricks.v1+cell": {
     "cellMetadata": {
      "byteLimit": 2048000,
      "implicitDf": true,
      "rowLimit": 10000
     },
     "inputWidgets": {},
     "nuid": "be97dbd5-e29c-4b9d-9a05-a8f1db14a038",
     "showTitle": false,
     "tableResultSettingsMap": {},
     "title": ""
    }
   },
   "outputs": [],
   "source": [
    "%sql\n",
    "-- Detach and Recreate all schema for fresh Prime data ingestion\n",
    "\n",
    "DROP SCHEMA IF EXISTS medical_research_recalls.bronze CASCADE;\n",
    "\n",
    "CREATE SCHEMA medical_research_recalls.bronze\n",
    "MANAGED LOCATION 's3://kungfupandas/bronze/'\n",
    "COMMENT 'Bronze layer schema with managed Delta tables';\n",
    "\n",
    "DROP SCHEMA IF EXISTS medical_research_recalls.silver CASCADE;\n",
    "\n",
    "CREATE SCHEMA medical_research_recalls.silver\n",
    "MANAGED LOCATION 's3://kungfupandas/silver/'\n",
    "COMMENT 'Silver layer schema with managed Delta tables';\n",
    "\n",
    "\n",
    "\n",
    "DROP SCHEMA IF EXISTS medical_research_recalls.gold CASCADE;\n",
    "\n",
    "CREATE SCHEMA medical_research_recalls.gold\n",
    "MANAGED LOCATION 's3://kungfupandas/gold/'\n",
    "COMMENT 'Silver layer schema with managed Delta tables';\n",
    "medical_research_recalls.bronze.kgf_patient_cancer_detection\n",
    "SHOW SCHEMAS;\n",
    "\n"
   ]
  },
  {
   "cell_type": "code",
   "execution_count": 0,
   "metadata": {
    "application/vnd.databricks.v1+cell": {
     "cellMetadata": {},
     "inputWidgets": {},
     "nuid": "51df8039-19e6-4e08-a393-1bac6fb4b14a",
     "showTitle": false,
     "tableResultSettingsMap": {},
     "title": ""
    }
   },
   "outputs": [],
   "source": []
  }
 ],
 "metadata": {
  "application/vnd.databricks.v1+notebook": {
   "computePreferences": null,
   "dashboards": [],
   "environmentMetadata": {
    "base_environment": "",
    "environment_version": "2"
   },
   "inputWidgetPreferences": null,
   "language": "python",
   "notebookMetadata": {
    "mostRecentlyExecutedCommandWithImplicitDF": {
     "commandId": 8404223092973586,
     "dataframes": [
      "_sqldf"
     ]
    },
    "pythonIndentUnit": 4
   },
   "notebookName": "Schema_Setup",
   "widgets": {}
  },
  "language_info": {
   "name": "python"
  }
 },
 "nbformat": 4,
 "nbformat_minor": 0
}
