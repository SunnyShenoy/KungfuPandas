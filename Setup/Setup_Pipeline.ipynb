{
 "cells": [
  {
   "cell_type": "code",
   "execution_count": 0,
   "metadata": {
    "application/vnd.databricks.v1+cell": {
     "cellMetadata": {
      "byteLimit": 2048000,
      "rowLimit": 10000
     },
     "inputWidgets": {},
     "nuid": "33a2c456-9664-48cc-82b6-9a00d0a0cad2",
     "showTitle": false,
     "tableResultSettingsMap": {},
     "title": ""
    }
   },
   "outputs": [],
   "source": [
    "# Setup: Decision Notebook (Setup_Pipeline.py)\n",
    "from datetime import datetime\n",
    "\n",
    "# Get widget value or default\n",
    "dbutils.widgets.text(\"job_type\", \"\")\n",
    "job_type = dbutils.widgets.get(\"job_type\") or \"delta\"\n",
    "\n",
    "print(f\"job_type: {job_type}\")\n",
    "\n",
    "# Determine which notebook to run\n",
    "if job_type.lower() == \"prime\":\n",
    "    notebook_to_run = \"/Workspace/Cancer_Screening_Prevention_And_Early_Detection/Cancer_Screening_bronze_Data_Ingestion/Prime_Run/BRONZE - Setup Data Ingestion\"\n",
    "else:\n",
    "    notebook_to_run = \"/Workspace/Cancer_Screening_Prevention_And_Early_Detection/Cancer_Screening_bronze_Data_Ingestion/Incremental_Job_Run/BRONZE - Incremental Ingestion\"\n",
    "\n",
    "# Call the appropriate notebook\n",
    "result = dbutils.notebook.run(notebook_to_run, timeout_seconds=3600, arguments={})\n",
    "dbutils.notebook.exit(result)"
   ]
  },
  {
   "cell_type": "code",
   "execution_count": 0,
   "metadata": {
    "application/vnd.databricks.v1+cell": {
     "cellMetadata": {},
     "inputWidgets": {},
     "nuid": "b4e4895d-d16c-401b-97a4-72cec681f56a",
     "showTitle": false,
     "tableResultSettingsMap": {},
     "title": ""
    }
   },
   "outputs": [],
   "source": []
  }
 ],
 "metadata": {
  "application/vnd.databricks.v1+notebook": {
   "computePreferences": null,
   "dashboards": [],
   "environmentMetadata": {
    "base_environment": "",
    "environment_version": "2"
   },
   "inputWidgetPreferences": null,
   "language": "python",
   "notebookMetadata": {
    "pythonIndentUnit": 4
   },
   "notebookName": "Setup_Pipeline",
   "widgets": {}
  },
  "language_info": {
   "name": "python"
  }
 },
 "nbformat": 4,
 "nbformat_minor": 0
}
