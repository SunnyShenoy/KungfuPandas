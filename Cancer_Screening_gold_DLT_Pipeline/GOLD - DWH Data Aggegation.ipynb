{
 "cells": [
  {
   "cell_type": "markdown",
   "metadata": {
    "application/vnd.databricks.v1+cell": {
     "cellMetadata": {},
     "inputWidgets": {},
     "nuid": "a427206b-82c2-4a41-8e5c-98efafdcab3c",
     "showTitle": false,
     "tableResultSettingsMap": {},
     "title": ""
    }
   },
   "source": [
    "🧠 Gold Aggregation 1: 🔥 Risk Factors vs Detection Probability"
   ]
  },
  {
   "cell_type": "code",
   "execution_count": 0,
   "metadata": {
    "application/vnd.databricks.v1+cell": {
     "cellMetadata": {
      "byteLimit": 2048000,
      "rowLimit": 10000
     },
     "inputWidgets": {},
     "nuid": "a45325d3-ae88-4ba5-ae0a-fb89a7e25aec",
     "showTitle": false,
     "tableResultSettingsMap": {},
     "title": ""
    }
   },
   "outputs": [],
   "source": [
    "-- Gold Aggregation 1: Risk Factors vs Detection Probability\n",
    "\n",
    "USE CATALOG medical_research_recalls;\n",
    "USE SCHEMA gold;\n",
    "\n",
    "CREATE OR REPLACE TABLE medical_research_recalls.gold.risk_vs_detection_probability AS\n",
    "SELECT\n",
    "  NVL(r.risk_factor_count, 0) AS risk_factor_count,\n",
    "  ROUND(AVG(d.cancer_probability), 2) AS avg_detection_probability,\n",
    "  COUNT(*) AS patient_count\n",
    "FROM silver.patient_risk_factors r\n",
    "JOIN silver.patient_cancer_detection d ON r.id = d.patient_id\n",
    "GROUP BY r.risk_factor_count\n",
    "ORDER BY r.risk_factor_count;\n",
    "\n",
    "select * from gold.risk_vs_detection_probability;"
   ]
  },
  {
   "cell_type": "code",
   "execution_count": 0,
   "metadata": {
    "application/vnd.databricks.v1+cell": {
     "cellMetadata": {
      "byteLimit": 2048000,
      "rowLimit": 10000
     },
     "inputWidgets": {},
     "nuid": "049ecdf3-113b-45e3-9cd5-84d3234805fb",
     "showTitle": false,
     "tableResultSettingsMap": {
      "0": {
       "dataGridStateBlob": "{\"version\":1,\"tableState\":{\"columnPinning\":{\"left\":[\"#row_number#\"],\"right\":[]},\"columnSizing\":{},\"columnVisibility\":{}},\"settings\":{\"columns\":{}},\"syncTimestamp\":1748786314434}",
       "filterBlob": null,
       "queryPlanFiltersBlob": null,
       "tableResultIndex": 0
      }
     },
     "title": ""
    }
   },
   "outputs": [],
   "source": [
    "select * from silver.patient_risk_factors;"
   ]
  },
  {
   "cell_type": "code",
   "execution_count": 0,
   "metadata": {
    "application/vnd.databricks.v1+cell": {
     "cellMetadata": {},
     "inputWidgets": {},
     "nuid": "ebbf2440-c015-4e51-b7b2-48cd77a1d7da",
     "showTitle": false,
     "tableResultSettingsMap": {},
     "title": ""
    }
   },
   "outputs": [],
   "source": [
    "-- Gold Aggregation 2: Age Group vs Detection Rate\n",
    "\n",
    "CREATE OR REPLACE TABLE medical_research_recalls.gold.age_group_detection_rate AS\n",
    "SELECT\n",
    "  c.age_group,\n",
    "  COUNT(d.patient_id) AS detected_patients,\n",
    "  COUNT(r.id) AS total_patients,\n",
    "  ROUND(100 * COUNT(d.patient_id) / COUNT(r.id), 2) AS detection_rate_percent\n",
    "FROM silver.patient_details c\n",
    "JOIN silver.patient_risk_factors r ON c.Patient_ID = r.id\n",
    "LEFT JOIN silver.patient_cancer_detection d ON c.Patient_ID = d.Patient_ID\n",
    "GROUP BY c.age_group;\n",
    "\n",
    "select * from medical_research_recalls.gold.age_group_detection_rate;"
   ]
  }
 ],
 "metadata": {
  "application/vnd.databricks.v1+notebook": {
   "computePreferences": null,
   "dashboards": [],
   "environmentMetadata": {
    "base_environment": "",
    "environment_version": "2"
   },
   "inputWidgetPreferences": null,
   "language": "sql",
   "notebookMetadata": {
    "pythonIndentUnit": 4
   },
   "notebookName": "GOLD - DWH Data Aggegation",
   "widgets": {}
  },
  "language_info": {
   "name": "sql"
  }
 },
 "nbformat": 4,
 "nbformat_minor": 0
}
