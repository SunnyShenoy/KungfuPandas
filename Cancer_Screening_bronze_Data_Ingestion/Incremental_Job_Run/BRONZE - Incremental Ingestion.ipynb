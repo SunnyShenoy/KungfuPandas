{
 "cells": [
  {
   "cell_type": "code",
   "execution_count": 0,
   "metadata": {
    "application/vnd.databricks.v1+cell": {
     "cellMetadata": {
      "byteLimit": 2048000,
      "rowLimit": 10000
     },
     "inputWidgets": {},
     "nuid": "0277637a-b4b4-4128-9ee9-05cef6df203e",
     "showTitle": false,
     "tableResultSettingsMap": {},
     "title": ""
    }
   },
   "outputs": [],
   "source": [
    "# Databricks Auto Loader Ingestion Notebook for Bronze Tables\n",
    "\n",
    "from pyspark.sql.types import *\n",
    "from pyspark.sql.functions import *\n",
    "\n",
    "# Common base path\n",
    "landing_zone_path = \"s3://kungfupandas/landing_zone/\"\n",
    "bronze_base_path = \"s3://kungfupandas/bronze/\"\n",
    "checkpoint_base_path = \"s3://kungfupandas/checkpoints/bronze/\""
   ]
  },
  {
   "cell_type": "code",
   "execution_count": 0,
   "metadata": {
    "application/vnd.databricks.v1+cell": {
     "cellMetadata": {
      "byteLimit": 2048000,
      "rowLimit": 10000
     },
     "inputWidgets": {},
     "nuid": "96e53259-a710-4f83-aa96-15690795848c",
     "showTitle": false,
     "tableResultSettingsMap": {},
     "title": ""
    }
   },
   "outputs": [],
   "source": [
    "# ---------------------- patient_details ----------------------\n",
    "patient_details_schema = StructType([\n",
    "    StructField(\"id\", StringType(), True),\n",
    "    StructField(\"First Name\", StringType(), True),\n",
    "    StructField(\"Surname\", StringType(), True),\n",
    "    StructField(\"Title\", StringType(), True),\n",
    "    StructField(\"Date of Birth\", StringType(), True),\n",
    "    StructField(\"Address\", StringType(), True),\n",
    "    StructField(\"Mobile\", StringType(), True),\n",
    "    StructField(\"Home Phone\", StringType(), True),\n",
    "    StructField(\"Work Phone\", StringType(), True)\n",
    "])\n",
    "\n",
    "raw_patient_details_df = (\n",
    "    spark.readStream\n",
    "        .format(\"cloudFiles\")\n",
    "        .option(\"cloudFiles.format\", \"csv\")\n",
    "        .option(\"header\", \"true\")\n",
    "        .schema(patient_details_schema)\n",
    "        .load(f\"{landing_zone_path}patient_details_*\")\n",
    ")\n",
    "\n",
    "patient_details_df = raw_patient_details_df.toDF(\n",
    "    \"id\", \"first_name\", \"surname\", \"title\", \"date_of_birth\",\n",
    "    \"address\", \"mobile\", \"home_phone\", \"work_phone\"\n",
    ")\n",
    "\n",
    "(\n",
    "    patient_details_df\n",
    "    .writeStream\n",
    "    .format(\"delta\")\n",
    "    .option(\"checkpointLocation\", f\"{checkpoint_base_path}kgf_patient_details\")\n",
    "    .option(\"mergeSchema\", \"true\")\n",
    "    .outputMode(\"append\")\n",
    "    .trigger(once=True)\n",
    "    .start(f\"{bronze_base_path}kgf_patient_details\")\n",
    ")"
   ]
  },
  {
   "cell_type": "code",
   "execution_count": 0,
   "metadata": {
    "application/vnd.databricks.v1+cell": {
     "cellMetadata": {
      "byteLimit": 2048000,
      "rowLimit": 10000
     },
     "inputWidgets": {},
     "nuid": "e738c9e0-50de-4036-8a29-57be64b86e34",
     "showTitle": false,
     "tableResultSettingsMap": {},
     "title": ""
    }
   },
   "outputs": [],
   "source": [
    "# ---------------------- patient_demographics ----------------------\n",
    "patient_demographics_schema = StructType([\n",
    "    StructField(\"id\", StringType(), True),\n",
    "    StructField(\"Gender\", StringType(), True),\n",
    "    StructField(\"Marital Status\", StringType(), True),\n",
    "    StructField(\"Employment Status\", StringType(), True),\n",
    "    StructField(\"Education Level\", StringType(), True),\n",
    "    StructField(\"Ethnicity\", StringType(), True),\n",
    "    StructField(\"Annual Income (AUD)\", StringType(), True),\n",
    "    StructField(\"Insurance Type\", StringType(), True),\n",
    "    StructField(\"Primary Language\", StringType(), True)\n",
    "])\n",
    "\n",
    "raw_patient_demographics_df = (\n",
    "    spark.readStream\n",
    "        .format(\"cloudFiles\")\n",
    "        .option(\"cloudFiles.format\", \"csv\")\n",
    "        .option(\"header\", \"true\")\n",
    "        .schema(patient_demographics_schema)\n",
    "        .load(f\"{landing_zone_path}patient_demographics_*\")\n",
    ")\n",
    "\n",
    "patient_demographics_df = raw_patient_demographics_df.toDF(\n",
    "    \"id\", \"gender\", \"marital_status\", \"employment_status\", \"education_level\",\n",
    "    \"ethnicity\", \"annual_income_aud\", \"insurance_type\", \"primary_language\"\n",
    ")\n",
    "\n",
    "(\n",
    "    patient_demographics_df\n",
    "    .writeStream\n",
    "    .format(\"delta\")\n",
    "    .option(\"checkpointLocation\", f\"{checkpoint_base_path}kgf_patient_demographics\")\n",
    "    .option(\"mergeSchema\", \"true\")\n",
    "    .outputMode(\"append\")\n",
    "    .trigger(once=True)\n",
    "    .start(f\"{bronze_base_path}kgf_patient_demographics\")\n",
    ")"
   ]
  },
  {
   "cell_type": "code",
   "execution_count": 0,
   "metadata": {
    "application/vnd.databricks.v1+cell": {
     "cellMetadata": {
      "byteLimit": 2048000,
      "rowLimit": 10000
     },
     "inputWidgets": {},
     "nuid": "2d56e3b3-67f9-4607-9be9-ee9094d7e172",
     "showTitle": false,
     "tableResultSettingsMap": {},
     "title": ""
    }
   },
   "outputs": [],
   "source": [
    "# ---------------------- patient_cancer_risk ----------------------\n",
    "patient_cancer_risk_schema = StructType([\n",
    "    StructField(\"id\", StringType(), True),\n",
    "    StructField(\"smoking\", StringType(), True),\n",
    "    StructField(\"alcohol_consumption\", StringType(), True),\n",
    "    StructField(\"family_history\", StringType(), True),\n",
    "    StructField(\"poor_diet\", StringType(), True),\n",
    "    StructField(\"obesity\", StringType(), True),\n",
    "    StructField(\"sedentary_lifestyle\", StringType(), True),\n",
    "    StructField(\"exposure_to_carcinogens\", StringType(), True),\n",
    "    StructField(\"chronic_inflammation\", StringType(), True),\n",
    "    StructField(\"hpv_infection\", StringType(), True),\n",
    "    StructField(\"sun_exposure\", StringType(), True),\n",
    "    StructField(\"air_pollution\", StringType(), True),\n",
    "    StructField(\"radiation_exposure\", StringType(), True),\n",
    "    StructField(\"chemical_exposure\", StringType(), True),\n",
    "    StructField(\"immunosuppression\", StringType(), True),\n",
    "    StructField(\"night_shift_work\", StringType(), True),\n",
    "    StructField(\"age\", StringType(), True),\n",
    "    StructField(\"gender\", StringType(), True)\n",
    "])\n",
    "\n",
    "patient_cancer_risk_df = (\n",
    "    spark.readStream\n",
    "        .format(\"cloudFiles\")\n",
    "        .option(\"cloudFiles.format\", \"csv\")\n",
    "        .option(\"header\", \"true\")\n",
    "        .schema(patient_cancer_risk_schema)\n",
    "        .load(f\"{landing_zone_path}patient_cancer_risk_*\")\n",
    ")\n",
    "\n",
    "(\n",
    "    patient_cancer_risk_df\n",
    "    .writeStream\n",
    "    .format(\"delta\")\n",
    "    .option(\"checkpointLocation\", f\"{checkpoint_base_path}kgf_patient_cancer_risk\")\n",
    "    .option(\"mergeSchema\", \"true\")\n",
    "    .outputMode(\"append\")\n",
    "    .trigger(once=True)\n",
    "    .start(f\"{bronze_base_path}kgf_patient_cancer_risk\")\n",
    ")\n"
   ]
  },
  {
   "cell_type": "code",
   "execution_count": 0,
   "metadata": {
    "application/vnd.databricks.v1+cell": {
     "cellMetadata": {
      "byteLimit": 2048000,
      "rowLimit": 10000
     },
     "inputWidgets": {},
     "nuid": "51e0e31e-aa56-4019-9b35-ff2960c56b95",
     "showTitle": false,
     "tableResultSettingsMap": {},
     "title": ""
    }
   },
   "outputs": [],
   "source": [
    "# ---------------------- patient_cancer_detection ----------------------\n",
    "patient_cancer_detection_schema = StructType([\n",
    "    StructField(\"Patient ID\", StringType(), True),\n",
    "    StructField(\"Detection Date\", StringType(), True),\n",
    "    StructField(\"Detection Method\", StringType(), True),\n",
    "    StructField(\"Stage at Detection\", StringType(), True),\n",
    "    StructField(\"Cancer Type\", StringType(), True),\n",
    "    StructField(\"Cancer Probability\", StringType(), True)\n",
    "])\n",
    "\n",
    "raw_patient_cancer_detection_df = (\n",
    "    spark.readStream\n",
    "        .format(\"cloudFiles\")\n",
    "        .option(\"cloudFiles.format\", \"csv\")\n",
    "        .option(\"header\", \"true\")\n",
    "        .schema(patient_cancer_detection_schema)\n",
    "        .load(f\"{landing_zone_path}patient_cancer_detection_*\")\n",
    ")\n",
    "\n",
    "patient_cancer_detection_df = raw_patient_cancer_detection_df.toDF(\n",
    "    \"patient_id\", \"detection_date\", \"detection_method\", \"stage_at_detection\",\n",
    "    \"cancer_type\", \"cancer_probability\"\n",
    ")\n",
    "\n",
    "(\n",
    "    patient_cancer_detection_df\n",
    "    .writeStream\n",
    "    .format(\"delta\")\n",
    "    .option(\"checkpointLocation\", f\"{checkpoint_base_path}kgf_patient_cancer_detection\")\n",
    "    .option(\"mergeSchema\", \"true\")\n",
    "    .outputMode(\"append\")\n",
    "    .trigger(once=True)\n",
    "    .start(f\"{bronze_base_path}kgf_patient_cancer_detection\")\n",
    ")"
   ]
  },
  {
   "cell_type": "code",
   "execution_count": 0,
   "metadata": {
    "application/vnd.databricks.v1+cell": {
     "cellMetadata": {
      "byteLimit": 2048000,
      "rowLimit": 10000
     },
     "inputWidgets": {},
     "nuid": "e20ac023-7c79-4394-9b38-92f2c4b68a8c",
     "showTitle": false,
     "tableResultSettingsMap": {},
     "title": ""
    }
   },
   "outputs": [],
   "source": [
    "# ---------------------- patient_risk_scores ----------------------\n",
    "patient_risk_scores_schema = StructType([\n",
    "    StructField(\"id\", StringType(), True),\n",
    "    StructField(\"age\", StringType(), True),\n",
    "    StructField(\"gender\", StringType(), True),\n",
    "    StructField(\"smoking_score\", StringType(), True),\n",
    "    StructField(\"alcohol_consumption_score\", StringType(), True),\n",
    "    StructField(\"family_history_score\", StringType(), True),\n",
    "    StructField(\"poor_diet_score\", StringType(), True),\n",
    "    StructField(\"obesity_score\", StringType(), True),\n",
    "    StructField(\"sedentary_lifestyle_score\", StringType(), True),\n",
    "    StructField(\"exposure_to_carcinogens_score\", StringType(), True),\n",
    "    StructField(\"chronic_inflammation_score\", StringType(), True),\n",
    "    StructField(\"hpv_infection_score\", StringType(), True),\n",
    "    StructField(\"sun_exposure_score\", StringType(), True),\n",
    "    StructField(\"air_pollution_score\", StringType(), True),\n",
    "    StructField(\"radiation_exposure_score\", StringType(), True),\n",
    "    StructField(\"chemical_exposure_score\", StringType(), True),\n",
    "    StructField(\"immunosuppression_score\", StringType(), True),\n",
    "    StructField(\"night_shift_work_score\", StringType(), True),\n",
    "    StructField(\"total_risk_score\", StringType(), True),\n",
    "    StructField(\"lung_cancer\", StringType(), True),\n",
    "    StructField(\"breast_cancer\", StringType(), True),\n",
    "    StructField(\"colon_cancer\", StringType(), True),\n",
    "    StructField(\"skin_cancer\", StringType(), True),\n",
    "    StructField(\"cervical_cancer\", StringType(), True),\n",
    "    StructField(\"prostate_cancer\", StringType(), True),\n",
    "    StructField(\"leukemia\", StringType(), True),\n",
    "    StructField(\"pancreatic_cancer\", StringType(), True)\n",
    "])\n",
    "\n",
    "patient_risk_scores_df = (\n",
    "    spark.readStream\n",
    "        .format(\"cloudFiles\")\n",
    "        .option(\"cloudFiles.format\", \"csv\")\n",
    "        .option(\"header\", \"true\")\n",
    "        .schema(patient_risk_scores_schema)\n",
    "        .load(f\"{landing_zone_path}patient_risk_scores_*\")\n",
    ")\n",
    "\n",
    "(\n",
    "    patient_risk_scores_df\n",
    "    .writeStream\n",
    "    .format(\"delta\")\n",
    "    .option(\"checkpointLocation\", f\"{checkpoint_base_path}kgf_patient_risk_scores\")\n",
    "    .option(\"mergeSchema\", \"true\")\n",
    "    .outputMode(\"append\")\n",
    "    .trigger(once=True)\n",
    "    .start(f\"{bronze_base_path}kgf_patient_risk_scores\")\n",
    ")"
   ]
  }
 ],
 "metadata": {
  "application/vnd.databricks.v1+notebook": {
   "computePreferences": null,
   "dashboards": [],
   "environmentMetadata": {
    "base_environment": "",
    "environment_version": "2"
   },
   "inputWidgetPreferences": null,
   "language": "python",
   "notebookMetadata": {
    "pythonIndentUnit": 4
   },
   "notebookName": "BRONZE - Incremental Ingestion",
   "widgets": {}
  },
  "language_info": {
   "name": "python"
  }
 },
 "nbformat": 4,
 "nbformat_minor": 0
}
