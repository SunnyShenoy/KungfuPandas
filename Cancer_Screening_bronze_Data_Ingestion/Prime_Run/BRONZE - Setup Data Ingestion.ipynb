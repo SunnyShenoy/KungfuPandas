{
 "cells": [
  {
   "cell_type": "markdown",
   "metadata": {
    "application/vnd.databricks.v1+cell": {
     "cellMetadata": {
      "byteLimit": 2048000,
      "rowLimit": 10000
     },
     "inputWidgets": {},
     "nuid": "f4b2d806-5d4a-4959-a5c0-2f86f97a822f",
     "showTitle": false,
     "tableResultSettingsMap": {},
     "title": ""
    }
   },
   "source": [
    "SETUP DATA INGESTION"
   ]
  },
  {
   "cell_type": "code",
   "execution_count": 0,
   "metadata": {
    "application/vnd.databricks.v1+cell": {
     "cellMetadata": {
      "byteLimit": 2048000,
      "rowLimit": 10000
     },
     "inputWidgets": {},
     "nuid": "36704e64-40b5-49ae-8ed4-1aa297fba5d0",
     "showTitle": false,
     "tableResultSettingsMap": {},
     "title": ""
    }
   },
   "outputs": [],
   "source": [
    "%python\n",
    "dbutils.entry_point.getDbutils().notebook().getContext().notebookPath().get()"
   ]
  },
  {
   "cell_type": "code",
   "execution_count": 0,
   "metadata": {
    "application/vnd.databricks.v1+cell": {
     "cellMetadata": {
      "byteLimit": 2048000,
      "rowLimit": 10000
     },
     "inputWidgets": {},
     "nuid": "eefcab9f-7c0d-4f4f-9f8a-56f6a8beef90",
     "showTitle": false,
     "tableResultSettingsMap": {},
     "title": ""
    }
   },
   "outputs": [],
   "source": [
    "%python\n",
    "# Recreate Schema for prime run of the job\n",
    "dbutils.notebook.run(\"/Workspace/KungfuPandas/Setup/Schema_Setup\", timeout_seconds=300)"
   ]
  },
  {
   "cell_type": "code",
   "execution_count": 0,
   "metadata": {
    "application/vnd.databricks.v1+cell": {
     "cellMetadata": {
      "byteLimit": 2048000,
      "rowLimit": 10000
     },
     "inputWidgets": {},
     "nuid": "ab88a38a-142f-4faa-b2f8-ac10289488ef",
     "showTitle": false,
     "tableResultSettingsMap": {
      "0": {
       "dataGridStateBlob": "{\"version\":1,\"tableState\":{\"columnPinning\":{\"left\":[\"#row_number#\"],\"right\":[]},\"columnSizing\":{},\"columnVisibility\":{}},\"settings\":{\"columns\":{}},\"syncTimestamp\":1748547540518}",
       "filterBlob": null,
       "queryPlanFiltersBlob": null,
       "tableResultIndex": 0
      }
     },
     "title": ""
    }
   },
   "outputs": [],
   "source": [
    "CREATE OR REPLACE TEMPORARY VIEW patient_details_csv\n",
    "USING CSV\n",
    "OPTIONS (\n",
    "  path 's3://kungfupandas/landing_zone/prime_patient_details_10k.csv',\n",
    "  header 'true',\n",
    "  inferSchema 'false'\n",
    ");\n",
    "\n",
    "CREATE OR REPLACE TABLE medical_research_recalls.bronze.kgf_patient_details\n",
    "USING DELTA\n",
    "LOCATION 's3://kungfupandas/bronze/kgf_patient_details'\n",
    "AS \n",
    "SELECT\n",
    "  `id`,\n",
    "  `First Name` AS first_name,\n",
    "  `Surname` AS surname,\n",
    "  `Title` AS title,\n",
    "  `Date of Birth` AS date_of_birth,\n",
    "  `Address` AS address,\n",
    "  `Mobile` AS mobile,\n",
    "  `Home Phone` AS home_phone,\n",
    "  `Work Phone` AS work_phone\n",
    "FROM patient_details_csv;\n",
    "\n",
    "select * from medical_research_recalls.bronze.kgf_patient_details limit 10;"
   ]
  },
  {
   "cell_type": "code",
   "execution_count": 0,
   "metadata": {
    "application/vnd.databricks.v1+cell": {
     "cellMetadata": {
      "byteLimit": 2048000,
      "rowLimit": 10000
     },
     "inputWidgets": {},
     "nuid": "15f39f24-c55b-438b-9f4e-59babee45e07",
     "showTitle": false,
     "tableResultSettingsMap": {},
     "title": ""
    }
   },
   "outputs": [],
   "source": [
    "CREATE OR REPLACE TEMPORARY VIEW patient_demographics_csv\n",
    "USING CSV\n",
    "OPTIONS (\n",
    "  path 's3://kungfupandas/landing_zone/prime_patient_demographics_10k.csv',\n",
    "  header 'true',\n",
    "  inferSchema 'false'\n",
    ");\n",
    "\n",
    "CREATE OR REPLACE TABLE medical_research_recalls.bronze.kgf_patient_demographics\n",
    "USING DELTA\n",
    "LOCATION 's3://kungfupandas/bronze/kgf_patient_demographics'\n",
    "AS \n",
    "SELECT\n",
    "  `id`,\n",
    "  `Gender` AS gender,\n",
    "  `Marital Status` AS marital_status,\n",
    "  `Employment Status` AS employment_status,\n",
    "  `Education Level` AS education_level,\n",
    "  `Ethnicity` AS ethnicity,\n",
    "  `Annual Income (AUD)` AS annual_income_aud,\n",
    "  `Insurance Type` AS insurance_type,\n",
    "  `Primary Language` AS primary_language \n",
    "FROM patient_demographics_csv;\n",
    "\n",
    "select * from medical_research_recalls.bronze.kgf_patient_demographics limit 10;"
   ]
  },
  {
   "cell_type": "code",
   "execution_count": 0,
   "metadata": {
    "application/vnd.databricks.v1+cell": {
     "cellMetadata": {
      "byteLimit": 2048000,
      "rowLimit": 10000
     },
     "inputWidgets": {},
     "nuid": "05ce845e-bfcc-40ca-8a2b-5f54e85b0e26",
     "showTitle": false,
     "tableResultSettingsMap": {},
     "title": ""
    }
   },
   "outputs": [],
   "source": [
    "CREATE OR REPLACE TEMPORARY VIEW patient_cancer_risk_csv\n",
    "USING CSV\n",
    "OPTIONS (\n",
    "  path 's3://kungfupandas/landing_zone/prime_patient_cancer_risk_10k.csv',\n",
    "  header 'true',\n",
    "  inferSchema 'false'\n",
    ");\n",
    "\n",
    "CREATE OR REPLACE TABLE medical_research_recalls.bronze.kgf_patient_cancer_risk\n",
    "USING DELTA\n",
    "LOCATION 's3://kungfupandas/bronze/kgf_patient_cancer_risk'\n",
    "AS \n",
    "SELECT\n",
    "  `id`,\n",
    "  `smoking`,\n",
    "  `alcohol_consumption`,\n",
    "  `family_history`,\n",
    "  `poor_diet`,\n",
    "  `obesity`,\n",
    "  `sedentary_lifestyle`,\n",
    "  `exposure_to_carcinogens`,\n",
    "  `chronic_inflammation`,\n",
    "  `HPV_infection` AS hpv_infection,\n",
    "  `sun_exposure`,\n",
    "  `air_pollution`,\n",
    "  `radiation_exposure`,\n",
    "  `chemical_exposure`,\n",
    "  `immunosuppression`,\n",
    "  `night_shift_work`,\n",
    "  `Age` AS age,\n",
    "  `Gender` AS gender\n",
    "FROM patient_cancer_risk_csv;\n",
    "\n",
    "select * from medical_research_recalls.bronze.kgf_patient_cancer_risk limit 10;"
   ]
  },
  {
   "cell_type": "code",
   "execution_count": 0,
   "metadata": {
    "application/vnd.databricks.v1+cell": {
     "cellMetadata": {
      "byteLimit": 2048000,
      "rowLimit": 10000
     },
     "inputWidgets": {},
     "nuid": "9bcfe87c-43fd-4536-a2b2-07471ccdefcc",
     "showTitle": false,
     "tableResultSettingsMap": {},
     "title": ""
    }
   },
   "outputs": [],
   "source": [
    "CREATE OR REPLACE TEMPORARY VIEW patient_cancer_detection_csv\n",
    "USING CSV\n",
    "OPTIONS (\n",
    "  path 's3://kungfupandas/landing_zone/prime_patient_cancer_detection_10k.csv',\n",
    "  header 'true',\n",
    "  inferSchema 'false'\n",
    ");\n",
    "\n",
    "CREATE OR REPLACE TABLE medical_research_recalls.bronze.kgf_patient_cancer_detection\n",
    "USING DELTA\n",
    "LOCATION 's3://kungfupandas/bronze/kgf_patient_cancer_detection'\n",
    "AS \n",
    "SELECT\n",
    "  `Patient ID` AS patient_id,\n",
    "  `Detection Date` AS detection_date,\n",
    "  `Detection Method` AS detection_method,\n",
    "  `Stage at Detection` AS stage_at_detection,\n",
    "  `Cancer Type` AS cancer_type,\n",
    "  `Cancer Probability` AS cancer_probability\n",
    "FROM patient_cancer_detection_csv;\n",
    "\n",
    "select * from medical_research_recalls.bronze.kgf_patient_cancer_detection limit 10;"
   ]
  },
  {
   "cell_type": "code",
   "execution_count": 0,
   "metadata": {
    "application/vnd.databricks.v1+cell": {
     "cellMetadata": {
      "byteLimit": 2048000,
      "rowLimit": 10000
     },
     "inputWidgets": {},
     "nuid": "3cfb8104-cbf4-41a5-a1e1-e9b5cfb8b949",
     "showTitle": false,
     "tableResultSettingsMap": {},
     "title": ""
    }
   },
   "outputs": [],
   "source": [
    "CREATE OR REPLACE TEMPORARY VIEW patient_risk_scores_csv\n",
    "USING CSV\n",
    "OPTIONS (\n",
    "  path 's3://kungfupandas/landing_zone/prime_patient_risk_scores_10k.csv',\n",
    "  header 'true',\n",
    "  inferSchema 'false'\n",
    ");\n",
    "\n",
    "CREATE OR REPLACE TABLE medical_research_recalls.bronze.kgf_patient_risk_scores\n",
    "USING DELTA\n",
    "LOCATION 's3://kungfupandas/bronze/kgf_patient_risk_scores'\n",
    "AS \n",
    "SELECT\n",
    "  `id`,\n",
    "  `age`,\n",
    "  `gender`,\n",
    "  `smoking_score`,\n",
    "  `alcohol_consumption_score`,\n",
    "  `family_history_score`,\n",
    "  `poor_diet_score`,\n",
    "  `obesity_score`,\n",
    "  `sedentary_lifestyle_score`,\n",
    "  `exposure_to_carcinogens_score`,\n",
    "  `chronic_inflammation_score`,\n",
    "  `hpv_infection_score`,\n",
    "  `sun_exposure_score`,\n",
    "  `air_pollution_score`,\n",
    "  `radiation_exposure_score`,\n",
    "  `chemical_exposure_score`,\n",
    "  `immunosuppression_score`,\n",
    "  `night_shift_work_score`,\n",
    "  `total_risk_score`,\n",
    "\n",
    "  -- Scale all scores by 10 to allow for more accurate processing\n",
    "  `lung_cancer` * 10 AS lung_cancer,\n",
    "  `breast_cancer` * 10 AS breast_cancer,\n",
    "  `colon_cancer` * 10 AS colon_cancer,\n",
    "  `skin_cancer` * 10 AS skin_cancer,\n",
    "  `cervical_cancer` * 10 AS cervical_cancer,\n",
    "  `prostate_cancer` * 10 AS prostate_cancer,\n",
    "  `leukemia` * 10 AS leukemia,\n",
    "  `pancreatic_cancer` * 10 AS pancreatic_cancer\n",
    "\n",
    "FROM patient_risk_scores_csv;\n",
    "\n",
    "select * from medical_research_recalls.bronze.kgf_patient_risk_scores limit 10;"
   ]
  },
  {
   "cell_type": "code",
   "execution_count": 0,
   "metadata": {
    "application/vnd.databricks.v1+cell": {
     "cellMetadata": {
      "byteLimit": 2048000,
      "rowLimit": 10000
     },
     "inputWidgets": {},
     "nuid": "2dcf34eb-caf5-47d0-ba5b-b75870c22795",
     "showTitle": false,
     "tableResultSettingsMap": {},
     "title": ""
    }
   },
   "outputs": [],
   "source": [
    "-- Add comments for Simulting Lineage\n",
    "\n",
    "COMMENT ON TABLE medical_research_recalls.bronze.kgf_patient_details IS 'Patient Details bronze tier has been Ingested via /notebooks from Amazon S3 landing zone. Dataset from csv: patient_details_10k.csv';\n",
    "COMMENT ON TABLE medical_research_recalls.bronze.kgf_patient_demographics IS 'Patient Demographics bronze tier has been Ingested via /notebooks from Amazon S3 landing zone. Dataset from csv: patient_demographics_10k.csv';\n",
    "COMMENT ON TABLE medical_research_recalls.bronze.kgf_patient_cancer_risk IS 'Patient Cancer Risk bronze tier has been Ingested via /notebooks from Amazon S3 landing zone. Dataset from csv: patient_cancer_detection_10k.csv';\n",
    "COMMENT ON TABLE medical_research_recalls.bronze.kgf_patient_cancer_detection IS 'Patient Cancer Detection bronze tier has been Ingested via /notebooks from Amazon S3 landing zone. DataSet from csv: patient_cancer_detection_10k.csv';\n",
    "COMMENT ON TABLE medical_research_recalls.bronze.kgf_patient_cancer_detection IS 'Patient Cancer Scores bronze tier has been Ingested via /notebooks from Amazon S3 landing zone. DataSet from csv: patient_risk_scores_10k.csv';"
   ]
  },
  {
   "cell_type": "code",
   "execution_count": 0,
   "metadata": {
    "application/vnd.databricks.v1+cell": {
     "cellMetadata": {
      "byteLimit": 2048000,
      "rowLimit": 10000
     },
     "inputWidgets": {},
     "nuid": "bb6b1b30-2750-4502-bbe5-dcef75a0a12f",
     "showTitle": false,
     "tableResultSettingsMap": {},
     "title": ""
    }
   },
   "outputs": [],
   "source": []
  }
 ],
 "metadata": {
  "application/vnd.databricks.v1+notebook": {
   "computePreferences": null,
   "dashboards": [],
   "environmentMetadata": {
    "base_environment": "",
    "environment_version": "2"
   },
   "inputWidgetPreferences": null,
   "language": "sql",
   "notebookMetadata": {
    "pythonIndentUnit": 4
   },
   "notebookName": "BRONZE - Setup Data Ingestion",
   "widgets": {}
  },
  "language_info": {
   "name": "sql"
  }
 },
 "nbformat": 4,
 "nbformat_minor": 0
}
